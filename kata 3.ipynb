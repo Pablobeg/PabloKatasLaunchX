{
 "cells": [
  {
   "cell_type": "markdown",
   "metadata": {},
   "source": [
    "# Ejercicio 1\n",
    "Añadir el código necesario para crear una variable que guarde la velocidad del asteroide.\n",
    "Escribe una expresión de prueba para calcular si necesita una advertencia.\n",
    "Agregue las instrucciones que se ejecutarán si la expresión de prueba es true o false.\n"
   ]
  },
  {
   "cell_type": "code",
   "execution_count": 2,
   "metadata": {},
   "outputs": [
    {
     "name": "stdout",
     "output_type": "stream",
     "text": [
      "No hay peligro urra! c:\n"
     ]
    }
   ],
   "source": [
    "la_velocidad_del_asteroide = 19 \n",
    "if la_velocidad_del_asteroide > 25:\n",
    "         print(\"Hay peligro :c\")\n",
    "else:      \n",
    "    print(\"No hay peligro hurra! c:\")   "
   ]
  },
  {
   "cell_type": "markdown",
   "metadata": {},
   "source": [
    "# Ejercicio 2 \n",
    " Agrega el código para crear una variable para un asteroide que viaja a 19 km/s\n",
    " Escribe varias expresiones de prueba para determinar si puedes ver el rayo de luz desde la tierra\n",
    " Agrega las instrucciones que se ejecutarán si las expresiones de prueba son True o False"
   ]
  },
  {
   "cell_type": "code",
   "execution_count": 1,
   "metadata": {},
   "outputs": [
    {
     "name": "stdout",
     "output_type": "stream",
     "text": [
      "Hay un asteroide que ha entrado a la tierra :O, pero no tiene la velocidad necesaria para ser visto claramente\n"
     ]
    }
   ],
   "source": [
    "asteroide_que_viaja_a = 19\n",
    "if asteroide_que_viaja_a >= 20:\n",
    "    print(\"Hay un asteroide que ha entrado a la tierra :O y se podra ver c:\")\n",
    "elif asteroide_que_viaja_a >= 15:\n",
    "    print(\"Hay un asteroide que ha entrado a la tierra :O, pero no tiene la velocidad necesaria para ser visto claramente\") \n",
    "else:\n",
    "    print(\"Hay un asteroide que ha entrado a la tierra :O, pero ni lo busques va muy lento para ser visto :/\")"
   ]
  },
  {
   "cell_type": "markdown",
   "metadata": {},
   "source": [
    "# Ejercicio 3\n",
    "Agrega el código para crear nuevas variables para la velocidad y el tamaño del asteroide\n",
    "Para probar el código, prueba con varias velocidades y tamaños\n",
    "Escribe varias expresiones de prueba o combinaciones de expresiones de prueba para determinar qué mensaje se debe enviar a Tierra."
   ]
  },
  {
   "cell_type": "code",
   "execution_count": 2,
   "metadata": {},
   "outputs": [
    {
     "name": "stdout",
     "output_type": "stream",
     "text": [
      "Hay peligro :c, viene un asteroide que causara mucho daño, lo bueno es que tiene la suficiente velocidad para ser visto c:\n"
     ]
    }
   ],
   "source": [
    "velocidad_asteroide = 25 \n",
    "tamano_asteroide = 120 \n",
    "\n",
    "if tamano_asteroide > 25 and tamano_asteroide < 1000:\n",
    "    if velocidad_asteroide >= 25:\n",
    "         print(\"Hay peligro :c, viene un asteroide que causara mucho daño, lo bueno es que tiene la suficiente velocidad para ser visto c:\") \n",
    "    else:\n",
    "       print(\"Hay peligro :c, viene un asteroide que causara mucho daño, y no se podra ver :c\")\n",
    "elif velocidad_asteroide >= 25:\n",
    "    print(\"Viene un asteroide pero no causara daño y tiene la suficiente velocidad para ser visto c:\")\n",
    "else:\n",
    "   print(\"Viene un asteroide pero no causara daño y no tiene la suficiente velocidad para ser visto :c\")\n"
   ]
  }
 ],
 "metadata": {
  "interpreter": {
   "hash": "3fc2621b1fb2d0becda89d34325219fcc4156e8eaaa116488fd58262ccb5376c"
  },
  "kernelspec": {
   "display_name": "Python 3.9.10 64-bit",
   "language": "python",
   "name": "python3"
  },
  "language_info": {
   "codemirror_mode": {
    "name": "ipython",
    "version": 3
   },
   "file_extension": ".py",
   "mimetype": "text/x-python",
   "name": "python",
   "nbconvert_exporter": "python",
   "pygments_lexer": "ipython3",
   "version": "3.9.10"
  },
  "orig_nbformat": 4
 },
 "nbformat": 4,
 "nbformat_minor": 2
}
